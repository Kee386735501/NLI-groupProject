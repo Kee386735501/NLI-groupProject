{
 "cells": [
  {
   "cell_type": "markdown",
   "metadata": {
    "jupyter": {
     "outputs_hidden": false
    }
   },
   "source": [
    "LSTM + Pytorch For User Stories Classification"
   ]
  },
  {
   "cell_type": "markdown",
   "metadata": {
    "jupyter": {
     "outputs_hidden": false
    }
   },
   "source": [
    "1.1 Preprocess the data"
   ]
  },
  {
   "cell_type": "code",
   "execution_count": 1,
   "metadata": {},
   "outputs": [],
   "source": [
    "from nltk.corpus import stopwords\n",
    "from nltk import word_tokenize\n",
    "import torch\n",
    "\n",
    "\n",
    "#read dataset\n",
    "import pandas as pd\n",
    "df = pd.read_csv('training_data/NLI/train.csv')\n",
    "premise_data = df['premise'].tolist()\n",
    "hypothesis_data = df['hypothesis'].tolist()\n",
    "label_data = df['label'].tolist()"
   ]
  },
  {
   "cell_type": "code",
   "execution_count": 5,
   "metadata": {},
   "outputs": [],
   "source": [
    "import re\n",
    "\n",
    "# data clean\n",
    "paired_data = list(zip(premise_data, hypothesis_data, label_data))\n",
    "\n",
    "duplicates = set()\n",
    "unique_paired_data = []\n",
    "for pair in paired_data:\n",
    "    if (pair in duplicates) or (pair[0] == pair[1]):\n",
    "        continue\n",
    "    else:\n",
    "        duplicates.add(pair)\n",
    "        unique_paired_data.append(pair)\n",
    "\n",
    "premise_data, hypothesis_data, label_data = zip(*unique_paired_data)\n",
    "    \n",
    "premise_data_clean_garbled = [re.sub(r'[^a-zA-Z0-9\\s]', '', text) for text in premise_data]\n",
    "hypothesis_data_clean_garbled = [re.sub(r'[^a-zA-Z0-9\\s]', '', text) for text in hypothesis_data]\n",
    "\n",
    "cleaned_premise_data = [' '.join(re.sub(r'\\b\\w*www\\w*\\b', '', text).split()) for text in premise_data_clean_garbled]\n",
    "cleaned_hypothesis_data = [' '.join(re.sub(r'\\b\\w*www\\w*\\b', '', text).split()) for text in hypothesis_data_clean_garbled]"
   ]
  },
  {
   "cell_type": "code",
   "execution_count": 6,
   "metadata": {},
   "outputs": [],
   "source": [
    "import nltk\n",
    "# nltk.download('stopwords')\n",
    "stop_words = set(stopwords.words('english'))\n",
    "\n",
    "preprocessed_premise_data = [word_tokenize(text) for text in cleaned_premise_data]\n",
    "filtered_premise_data = [[word.lower() for word in premise if word.lower() not in stop_words] for premise in preprocessed_premise_data]\n"
   ]
  },
  {
   "cell_type": "code",
   "execution_count": 7,
   "metadata": {},
   "outputs": [
    {
     "data": {
      "text/plain": [
       "\"The Furushoin pavilion's verandah is the perfect place for viewing the full moon.\""
      ]
     },
     "execution_count": 7,
     "metadata": {},
     "output_type": "execute_result"
    }
   ],
   "source": [
    "premise_data[274]"
   ]
  },
  {
   "cell_type": "code",
   "execution_count": null,
   "metadata": {},
   "outputs": [],
   "source": []
  },
  {
   "cell_type": "markdown",
   "metadata": {},
   "source": [
    "1.2 Training : LSTM"
   ]
  },
  {
   "cell_type": "code",
   "execution_count": 4,
   "metadata": {},
   "outputs": [],
   "source": [
    "# from sklearn.model_selection import train_test_split\n",
    "# import torch\n",
    "# import torch.nn as nn  \n",
    "# import torch.optim as optim\n",
    "# from torch.utils.data import TensorDataset, DataLoader\n",
    "# # label data set\n",
    "# labels = {'Usability':0,\n",
    "#           'Functional':1,\n",
    "#           'Maintainability':2,\n",
    "#           'Security':3,\n",
    "#           'Portability':4,\n",
    "#           'Performance':5,\n",
    "#           'Compatibility':6,\n",
    "#           'Reliability':7\n",
    "#           }\n",
    "# labels_data = [labels[label] for label in label_data]\n",
    "\n",
    "\n",
    "# class BERT_LSTM_Classifier(nn.Module):\n",
    "#     def __init__(self, embedding_dim, hidden_dim, output_dim, num_layers, bidirectional=True, dropout=0.5):\n",
    "#         super(BERT_LSTM_Classifier, self).__init__()\n",
    "#         self.lstm = nn.LSTM(input_size=embedding_dim,\n",
    "#                             hidden_size=hidden_dim,\n",
    "#                             num_layers=num_layers,\n",
    "#                             bidirectional=bidirectional,\n",
    "#                             batch_first=True,\n",
    "#                             dropout=dropout if num_layers > 1 else 0)\n",
    "#         self.directions = 2 if bidirectional else 1\n",
    "#         self.fc = nn.Linear(hidden_dim * self.directions, output_dim)\n",
    "#         self.log_softmax = nn.LogSoftmax(dim=1)\n",
    "\n",
    "#     def forward(self, inputs):\n",
    "\n",
    "\n",
    "#         lstm_out, _ = self.lstm(inputs)\n",
    "\n",
    "   \n",
    "#         out = self.fc(lstm_out)\n",
    "    \n",
    "#         out = self.log_softmax(out)\n",
    "#         return out\n",
    "\n",
    "\n",
    "\n",
    "\n",
    "\n",
    "# # load dataset and label\n",
    "# from torch.utils.data import TensorDataset, DataLoader\n",
    "# sentence_embeddings_tensor = torch.stack(sentence_embeddings)\n",
    "# labels_tensor = torch.tensor(labels_data)\n",
    "\n",
    "# X_train, X_test, y_train, y_test = train_test_split(sentence_embeddings_tensor, labels_tensor, test_size=0.2, random_state=42)\n",
    "# train_dataset = TensorDataset(X_train, y_train)\n",
    "# test_dataset = TensorDataset(X_test, y_test)\n",
    "\n",
    "# train_dataloader = DataLoader(train_dataset, batch_size=32, shuffle=True)\n",
    "# test_dataloader = DataLoader(test_dataset, batch_size=32, shuffle=False)\n",
    "\n",
    "\n",
    "# embedding_dim = 768\n",
    "# hidden_dim = 256\n",
    "# output_dim = len(labels)  \n",
    "# num_epochs = 400 \n",
    "\n",
    "\n",
    "\n",
    "\n",
    "# model = BERT_LSTM_Classifier(embedding_dim=embedding_dim,\n",
    "#                              hidden_dim=hidden_dim,\n",
    "#                              output_dim=output_dim,\n",
    "#                              num_layers=1,  \n",
    "#                              bidirectional=False,  \n",
    "#                              dropout=0.1).to(device)\n",
    "\n",
    "# #loss function\n",
    "# loss_fn = nn.NLLLoss()  \n",
    "# optimizer = optim.Adam(model.parameters())\n",
    "\n",
    "\n",
    "# #train\n",
    "# model.train()\n",
    "# epoch_losses = []\n",
    "# for epoch in range(num_epochs):\n",
    "#     total_loss = 0\n",
    "#     for inputs, labels in train_dataloader:\n",
    "#         inputs, labels = inputs.to(device), labels.to(device)\n",
    "\n",
    "#         optimizer.zero_grad()\n",
    "#         outputs = model(inputs)\n",
    "#         loss = loss_fn(outputs, labels)\n",
    "#         loss.backward()\n",
    "#         optimizer.step()\n",
    "\n",
    "#         total_loss += loss.item()\n",
    "\n",
    "#     avg_loss = total_loss / len(train_dataloader)\n",
    "#     epoch_losses.append(avg_loss)\n",
    "#     print(f\"Epoch {epoch+1}, Loss: {total_loss / len(train_dataloader)}\")\n",
    "\n",
    "\n",
    "# model.eval()\n",
    "# total = 0\n",
    "# correct = 0\n",
    "# with torch.no_grad():\n",
    "#     for inputs, labels in test_dataloader:\n",
    "#         inputs, labels = inputs.to(device), labels.to(device)\n",
    "#         outputs = model(inputs)\n",
    "#         _, predicted = torch.max(outputs, 1)\n",
    "#         total += labels.size(0)\n",
    "#         correct += (predicted == labels).sum().item()\n",
    "\n",
    "# print(f\"Accuracy on test set: {correct / total * 100:.2f}%\")\n",
    "\n",
    "# import matplotlib.pyplot as plt\n",
    "\n",
    "\n",
    "# plt.figure(figsize=(10, 6))\n",
    "# plt.plot(range(1, num_epochs+1), epoch_losses, marker='o', label='Training Loss')\n",
    "# plt.xlabel('Epoch')\n",
    "# plt.ylabel('Loss')\n",
    "# plt.title('Training Loss')\n",
    "# plt.legend()\n",
    "# plt.grid(True)\n",
    "# plt.show()"
   ]
  },
  {
   "cell_type": "markdown",
   "metadata": {
    "jupyter": {
     "outputs_hidden": false
    }
   },
   "source": [
    "Finetuning Bert Model"
   ]
  },
  {
   "cell_type": "markdown",
   "metadata": {
    "jupyter": {
     "outputs_hidden": false
    }
   },
   "source": []
  },
  {
   "cell_type": "code",
   "execution_count": null,
   "metadata": {
    "jupyter": {
     "outputs_hidden": false
    }
   },
   "outputs": [],
   "source": []
  },
  {
   "cell_type": "code",
   "execution_count": null,
   "metadata": {},
   "outputs": [],
   "source": []
  }
 ],
 "metadata": {
  "kernelspec": {
   "display_name": "Python 3 (ipykernel)",
   "language": "python",
   "name": "python3"
  },
  "language_info": {
   "codemirror_mode": {
    "name": "ipython",
    "version": 3
   },
   "file_extension": ".py",
   "mimetype": "text/x-python",
   "name": "python",
   "nbconvert_exporter": "python",
   "pygments_lexer": "ipython3",
   "version": "3.11.9"
  }
 },
 "nbformat": 4,
 "nbformat_minor": 4
}
